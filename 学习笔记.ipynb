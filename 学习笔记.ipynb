{
 "cells": [
  {
   "cell_type": "markdown",
   "metadata": {},
   "source": [
    "## 快捷键"
   ]
  },
  {
   "cell_type": "markdown",
   "metadata": {},
   "source": [
    "### 命令模式之后（此时你没有活跃单元）：\n",
    "A 会在活跃单元之上插入一个新的单元，B 会在活跃单元之下插入一个新单元。\n",
    "连续按两次 D，可以删除一个单元。\n",
    "撤销被删除的单元，按 Z。\n",
    "Y 会将当前活跃的单元变成一个代码单元。\n",
    "按住 Shift +上或下箭头可选择多个单元。在多选模式时，按住 Shift + M 可合并你的选择。\n",
    "按 F 会弹出「查找和替换」菜单。\n",
    "\n",
    "### 编辑模式时（在命令模式时按 Enter 会进入编辑模式）：\n",
    "Ctrl + Home 到达单元起始位置。\n",
    "Ctrl + S 保存进度。\n",
    "如之前提到的，Ctrl + Enter 会运行你的整个单元块。\n",
    "Alt + Enter 不止会运行你的单元块，还会在下面添加一个新单元。\n",
    "Ctrl + Shift + F 打开命令面板。"
   ]
  },
  {
   "cell_type": "markdown",
   "metadata": {},
   "source": [
    "## 每个变量或者常量，除了它们的值之外，同时还相当于有一个对应的布尔值。"
   ]
  },
  {
   "cell_type": "markdown",
   "metadata": {},
   "source": [
    "这是因为 Python 将 `True` 定义为：\n",
    "\n",
    "> By default, an object is considered true unless its class defines either a \\_\\_bool\\_\\_() method that returns `False` or a \\_\\_len\\_\\_() method that returns zero, when called with the object.\n",
    ">\n",
    "> https://docs.python.org/3/library/stdtypes.html#truth-value-testing\n",
    "\n",
    "这一段文字，初学者是看不懂的。但下一段就好理解了：\n",
    "\n",
    "> Here are most of the built-in objects considered `False`:\n",
    "> \n",
    "> > * constants defined to be false: `None` and `False`.\n",
    "> > * zero of any numeric type: `0`, `0.0`, `0j`, `Decimal(0)`, `Fraction(0, 1)`\n",
    "> > * empty sequences and collections: `''`, `()`, `[]`, `{}`, `set()`, `range(0)`\n",
    "\n",
    "所以，`'Python'` 是个非空的字符串，即，不属于是 `empty sequences`，所以它不被认为是 `False`，即，它的布尔值是 `True`\n",
    "\n",
    "于是，这么理解就轻松了：\n",
    "\n",
    "> 每个变量或者常量，除了它们的值之外，同时还相当于有一个对应的布尔值。\n"
   ]
  },
  {
   "cell_type": "markdown",
   "metadata": {},
   "source": [
    "## 值的类型"
   ]
  },
  {
   "cell_type": "markdown",
   "metadata": {},
   "source": [
    "除了数字、布尔值、字符串，列表之外，还有若干数据类型。\n",
    "比如 range()（等差数列）、tuple（元组）、set（集合）、dictionary（字典），再比如 Date Type（日期）等等。"
   ]
  }
 ],
 "metadata": {
  "kernelspec": {
   "display_name": "Python 3",
   "language": "python",
   "name": "python3"
  },
  "language_info": {
   "codemirror_mode": {
    "name": "ipython",
    "version": 3
   },
   "file_extension": ".py",
   "mimetype": "text/x-python",
   "name": "python",
   "nbconvert_exporter": "python",
   "pygments_lexer": "ipython3",
   "version": "3.7.3"
  },
  "toc": {
   "base_numbering": 1,
   "nav_menu": {},
   "number_sections": true,
   "sideBar": true,
   "skip_h1_title": false,
   "title_cell": "Table of Contents",
   "title_sidebar": "Contents",
   "toc_cell": false,
   "toc_position": {},
   "toc_section_display": true,
   "toc_window_display": true
  }
 },
 "nbformat": 4,
 "nbformat_minor": 2
}
